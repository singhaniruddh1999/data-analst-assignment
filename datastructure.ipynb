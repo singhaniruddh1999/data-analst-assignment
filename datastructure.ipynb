{
  "nbformat": 4,
  "nbformat_minor": 0,
  "metadata": {
    "colab": {
      "provenance": []
    },
    "kernelspec": {
      "name": "python3",
      "display_name": "Python 3"
    },
    "language_info": {
      "name": "python"
    }
  },
  "cells": [
    {
      "cell_type": "code",
      "execution_count": null,
      "metadata": {
        "id": "co19906Te_oH"
      },
      "outputs": [],
      "source": []
    },
    {
      "cell_type": "markdown",
      "source": [
        "1. What are data structures, and why are they important?\n",
        "ans A data structure is a way of organizing and storing data in a computer, allowing for efficient access and modification.Data structures allow programs to run faster and use less memory by choosing the right way to arrange and manage data.\n",
        "\n",
        "2. Explain the difference between mutable and immutable data types with examples.\n",
        "ans Mutable data types can be changed after creation, while immutable data types cannot be altered once set.\n",
        "\n",
        "Immutable data types cannot be changed once created; any modification creates a new object.\n",
        "\n",
        "Examples in Python: strings, tuples, integers.\n",
        "\n",
        "Example:\n",
        "\n",
        "python\n",
        "my_string = \"Hello\"\n",
        "my_string = my_string + \" World\"  # Creates a new string object.\n",
        "Mutable data types allow modifications to their contents after they are created.\n",
        "\n",
        "Examples in Python: lists, dictionaries, and sets.\n",
        "\n",
        "Example:\n",
        "\n",
        "python\n",
        "my_list = [1, 2, 3]\n",
        "my_list.append(4)  # Now my_list is [1, 2, 3, 4]\n",
        "\n",
        "3. What are the main differences between lists and tuples in Python?\n",
        "ans lists is mutable while tuples are immutable.\n",
        "\n",
        "4. Describe how dictionaries store data?\n",
        "ans. Dictionaries store data by organizing key-value pairs using a hash table. Every key is processed through a hash function to produce a hash value, which determines the index where the corresponding value is stored in an internal array.\n",
        "\n",
        "5. Why might you use a set instead of a list in Python?\n",
        "ans. A set is often used instead of a list in Python when uniqueness and fast membership testing are required, as sets automatically eliminate duplicates .\n",
        "\n",
        "6. What is a string in Python, and how is it different from a list?\n",
        "ans. A string in Python is an immutable sequence of characters, used to represent text such as words, sentences, or symbols. It is defined by enclosing characters in single, double, or triple quotes.\n",
        "\n",
        "A list, by contrast, is a mutable sequence capable of storing elements of any data type, including numbers, strings, or even other lists. Lists are defined with square brackets and can be modified after creation by adding, removing, or changing.\n",
        "\n",
        "7. How do tuples ensure data integrity in Python?\n",
        "ans. Tuples ensure data integrity in Python by being immutable, meaning their contents cannot be changed after creation.\n",
        "\n",
        "8. What is a hash table, and how does it relate to dictionaries in Python?\n",
        "ans. A hash table is a data structure that stores key-value pairs by mapping each key to an index in an underlying array using a hash function. It provides fast insertion, deletion, and retrieval operations, generally with an average time complexity.\n",
        "\n",
        "Relationship to Python Dictionaries\n",
        "Python dictionaries are built on hash tables and use them internally for data storage.\n",
        "\n",
        "9. Can lists contain different data types in Python?\n",
        "ans. Yes, lists in Python can contain different data types simultaneously. Python lists are heterogeneous, allowing elements like integers, strings, floats, other lists, tuples, and even custom objects to coexist in the same list.\n",
        "\n",
        "10. Explain why strings are immutable in Python?\n",
        "ans. Strings are immutable in Python, meaning once a string is created, it cannot be changed or modified. This immutability provides several important in python.\n",
        "\n",
        "11. What advantages do dictionaries offer over lists for certain tasks?\n",
        "ans. Dictionaries offer several advantages over lists for certain tasks, mainly due to their underlying data structure and access patterns:\n",
        "\n",
        "Advantages of Dictionaries over Lists\n",
        "Fast Lookups by Key: Dictionaries provide average\n",
        " time complexity for searching, thanks to hash table implementation, allowing instant access to values by unique keys. Lists require time for searching by value or index, which is slower for large datasets.\n",
        "\n",
        "Key-Value Pair Storage: Unlike lists that store only values accessed by numeric index, dictionaries store data as key-value pairs, allowing more meaningful indexing by unique keys like names, IDs, or other identifiers. This is useful for scenarios like storing user profiles or configuration data.\n",
        "\n",
        "12. Describe a scenario where using a tuple would be preferable over a lis?\n",
        "ans. A scenario where using a tuple would be preferable over a list is when the data needs to remain constant and unchangeable throughout the program's execution. For example, storing fixed information like a person's birthdate or geographic coordinates, where changes should be prevented to maintain data integrity, makes tuples a better choice due to their immutability.\n",
        "\n",
        "13. How do sets handle duplicate values in Python?\n",
        "ans. In Python, sets handle duplicate values by automatically discarding them, so only one occurrence of each unique item is stored in the set. When a duplicate value is added to a set, Python recognizes that the value already exists and ignores the new addition, ensuring all elements remain unique.\n",
        "\n",
        "14. How does the “in” keyword work differently for lists and dictionaries?\n",
        "ans. For Lists\n",
        "The \"in\" keyword checks if a value exists anywhere in the list by scanning elements one-by-one from start to end.\n",
        "For Dictionaries\n",
        "The \"in\" keyword checks if a key exists in the dictionary, not the values.\n",
        "\n",
        "15. Can you modify the elements of a tuple? Explain why or why not.\n",
        "ans. No, you cannot modify the elements of a tuple in Python. Tuples are immutable, which means once a tuple is created, its elements cannot be changed, added, or removed. Attempting to assign a new value to an element of a tuple results in a TypeError, as tuples do not support item assignment.\n",
        "\n",
        "16. What is a nested dictionary, and give an example of its use case?\n",
        "ans. A nested dictionary in Python is a dictionary that contains another dictionary as its value. Essentially, it’s a dictionary within a dictionary, which allows for hierarchical or multi-level data organization.\n",
        "\n",
        "Example of a Nested Dictionary\n",
        "python\n",
        "students = {\n",
        "    'student1': {'name': 'Drake', 'age': 20, 'grade': 'A'},\n",
        "    'student2': {'name': 'Travis', 'age': 22, 'grade': 'B'},\n",
        "    'student3': {'name': 'Charlie', 'age': 21, 'grade': 'A+'}\n",
        "}\n",
        "print(students)\n",
        "\n",
        "17. Describe the time complexity of accessing elements in a dictionary?\n",
        "ans. The time complexity of accessing elements in a Python dictionary is on average O(1), which means it takes constant time regardless of the size of the dictionary.\n",
        "\n",
        "18. In what situations are lists preferred over dictionaries?\n",
        "ans. Lists (nested lists) are commonly used to represent matrices or grids, something dictionaries are less suited for.\n",
        "\n",
        "19. Why are dictionaries considered unordered, and how does that affect data retrieval?\n",
        "ans. Dictionaries were traditionally considered unordered because, before Python 3.6, they did not preserve the order of key-value pairs when iterated or viewed. This meant that the order of items in a dictionary was arbitrary and could vary, making the retrieval of data independent of the order in which it was added.\n",
        "\n",
        "20. Explain the difference between a list and a dictionary in terms of data retrieval.\n",
        "ans. lists offer efficient position-based access but slower value searches, while dictionaries provide fast access and search by keys, making them ideal for mapping unique identifiers to values.The primary difference between a list and a dictionary in terms of data retrieval lies in how elements are accessed and the efficiency of the retrieval operation.\n",
        "\n",
        "List: Elements in a list are accessed by their numeric index (position), which provides constant time access O(1). However, searching for an element by value in a list takes linear time\n",
        "O(n) because the list is scanned sequentially.\n",
        "\n",
        "Dictionary: Elements are accessed by unique keys rather than indices. Dictionaries use a hash table internally, allowing average constant time\n",
        "lookup by key. Searching by key is very fast regardless of the size of the dictionary, unlike lists where search time grows with list length.\n",
        "\n",
        "\n"
      ],
      "metadata": {
        "id": "fLuVRKAcfQ06"
      }
    },
    {
      "cell_type": "code",
      "source": [
        "#Write a code to create a string with your name and print it\n",
        "name = \"aniruddh\"\n",
        "print(name)"
      ],
      "metadata": {
        "colab": {
          "base_uri": "https://localhost:8080/"
        },
        "id": "AIWmuHDPpi_r",
        "outputId": "038e7739-2398-4f56-b0f9-3e1bb9aae081"
      },
      "execution_count": 1,
      "outputs": [
        {
          "output_type": "stream",
          "name": "stdout",
          "text": [
            "aniruddh\n"
          ]
        }
      ]
    },
    {
      "cell_type": "code",
      "source": [
        "#Write a code to find the length of the string \"Hello World\".\n",
        "str1 = \"hello world\"\n",
        "len(str1)"
      ],
      "metadata": {
        "colab": {
          "base_uri": "https://localhost:8080/"
        },
        "id": "EQHGf85opuKa",
        "outputId": "71f27a81-cde5-4d87-cea9-e62fcce869e3"
      },
      "execution_count": 2,
      "outputs": [
        {
          "output_type": "execute_result",
          "data": {
            "text/plain": [
              "11"
            ]
          },
          "metadata": {},
          "execution_count": 2
        }
      ]
    },
    {
      "cell_type": "code",
      "source": [
        "#Write a code to slice the first 3 characters from the string \"Python Programming\"\n",
        "str2 = \"python programming\"\n",
        "str2[0:3]"
      ],
      "metadata": {
        "colab": {
          "base_uri": "https://localhost:8080/",
          "height": 35
        },
        "id": "Dm9dl4tvp5eb",
        "outputId": "f887b7bc-bc01-4165-d5b5-7a0635294fb7"
      },
      "execution_count": 5,
      "outputs": [
        {
          "output_type": "execute_result",
          "data": {
            "text/plain": [
              "'pyt'"
            ],
            "application/vnd.google.colaboratory.intrinsic+json": {
              "type": "string"
            }
          },
          "metadata": {},
          "execution_count": 5
        }
      ]
    },
    {
      "cell_type": "code",
      "source": [
        "#Write a code to convert the string \"hello\" to uppercase\n",
        "str1 = \"hello\"\n",
        "str1.upper()"
      ],
      "metadata": {
        "colab": {
          "base_uri": "https://localhost:8080/",
          "height": 35
        },
        "id": "c3zNVlROqRe8",
        "outputId": "41d3bafd-976b-41f2-d6d2-3c664631285a"
      },
      "execution_count": 6,
      "outputs": [
        {
          "output_type": "execute_result",
          "data": {
            "text/plain": [
              "'HELLO'"
            ],
            "application/vnd.google.colaboratory.intrinsic+json": {
              "type": "string"
            }
          },
          "metadata": {},
          "execution_count": 6
        }
      ]
    },
    {
      "cell_type": "code",
      "source": [
        "#Write a code to replace the word \"apple\" with \"orange\" in the string \"I like apple\"\n",
        "text = \"I like apple\"\n",
        "new_text = text.replace(\"apple\", \"orange\")\n",
        "print(new_text)"
      ],
      "metadata": {
        "colab": {
          "base_uri": "https://localhost:8080/"
        },
        "id": "9kDGukv5qY70",
        "outputId": "64f8aa08-2140-4b17-b429-721bcc18c4b0"
      },
      "execution_count": 7,
      "outputs": [
        {
          "output_type": "stream",
          "name": "stdout",
          "text": [
            "I like orange\n"
          ]
        }
      ]
    },
    {
      "cell_type": "code",
      "source": [
        "#Write a code to create a list with numbers 1 to 5 and print it\n",
        "number = list(range(1,6))\n",
        "print(number)"
      ],
      "metadata": {
        "colab": {
          "base_uri": "https://localhost:8080/"
        },
        "id": "eCY9vNpdrZuJ",
        "outputId": "53a757df-bdd5-4de1-dc75-6c02f0571ce6"
      },
      "execution_count": 8,
      "outputs": [
        {
          "output_type": "stream",
          "name": "stdout",
          "text": [
            "[1, 2, 3, 4, 5]\n"
          ]
        }
      ]
    },
    {
      "cell_type": "code",
      "source": [
        "#Write a code to append the number 10 to the list [1, 2, 3, 4]\n",
        "lst = [1,2,3,4]\n",
        "lst.append(10)\n",
        "lst"
      ],
      "metadata": {
        "colab": {
          "base_uri": "https://localhost:8080/"
        },
        "id": "RC_Wkf9br3VO",
        "outputId": "842cbd7c-8ed9-4971-8979-37d8f1ea98fc"
      },
      "execution_count": 10,
      "outputs": [
        {
          "output_type": "execute_result",
          "data": {
            "text/plain": [
              "[1, 2, 3, 4, 10]"
            ]
          },
          "metadata": {},
          "execution_count": 10
        }
      ]
    },
    {
      "cell_type": "code",
      "source": [
        "#Write a code to remove the number 3 from the list [1, 2, 3, 4, 5]\n",
        "lst = [1,2,3,4,5]\n",
        "lst.remove(3)\n",
        "lst"
      ],
      "metadata": {
        "colab": {
          "base_uri": "https://localhost:8080/"
        },
        "id": "ri0I60cwsFJg",
        "outputId": "5f5bbff0-fe2b-4459-fa5a-396f73ecd545"
      },
      "execution_count": 11,
      "outputs": [
        {
          "output_type": "execute_result",
          "data": {
            "text/plain": [
              "[1, 2, 4, 5]"
            ]
          },
          "metadata": {},
          "execution_count": 11
        }
      ]
    },
    {
      "cell_type": "code",
      "source": [
        "#Write a code to access the second element in the list ['a', 'b', 'c', 'd']\n",
        "lst= ['a','b','c','d']\n",
        "lst[1]"
      ],
      "metadata": {
        "colab": {
          "base_uri": "https://localhost:8080/",
          "height": 35
        },
        "id": "swdcsw3MsQm8",
        "outputId": "ae2e8cf8-a742-49df-8a95-5f5c38c73967"
      },
      "execution_count": 12,
      "outputs": [
        {
          "output_type": "execute_result",
          "data": {
            "text/plain": [
              "'b'"
            ],
            "application/vnd.google.colaboratory.intrinsic+json": {
              "type": "string"
            }
          },
          "metadata": {},
          "execution_count": 12
        }
      ]
    },
    {
      "cell_type": "code",
      "source": [
        "#Write a code to reverse the list [10, 20, 30, 40, 50].\n",
        "lst = [10,20,30,40,50]\n",
        "lst[ : :-1]"
      ],
      "metadata": {
        "colab": {
          "base_uri": "https://localhost:8080/"
        },
        "id": "11FOkWBAsl-G",
        "outputId": "63dc24db-a873-452c-e799-80a4201d7c42"
      },
      "execution_count": 13,
      "outputs": [
        {
          "output_type": "execute_result",
          "data": {
            "text/plain": [
              "[50, 40, 30, 20, 10]"
            ]
          },
          "metadata": {},
          "execution_count": 13
        }
      ]
    },
    {
      "cell_type": "code",
      "source": [
        "#Write a code to create a tuple with the elements 100, 200, 300 and print it.\n",
        "my_tuple = (100,200,300)\n",
        "print(my_tuple)"
      ],
      "metadata": {
        "colab": {
          "base_uri": "https://localhost:8080/"
        },
        "id": "WyMFP2iXtA2F",
        "outputId": "633ce195-5750-4f58-f6aa-c31839e490ce"
      },
      "execution_count": 14,
      "outputs": [
        {
          "output_type": "stream",
          "name": "stdout",
          "text": [
            "(100, 200, 300)\n"
          ]
        }
      ]
    },
    {
      "cell_type": "code",
      "source": [
        "# Write a code to access the second-to-last element of the tuple ('red', 'green', 'blue', 'yellow').\n",
        "my_tuple = ('red','green','blue','yellow')\n",
        "my_tuple[1:]"
      ],
      "metadata": {
        "colab": {
          "base_uri": "https://localhost:8080/"
        },
        "id": "sAA3JcYZtMtx",
        "outputId": "4cd5f2db-8640-4946-ebd2-920ecb583d60"
      },
      "execution_count": 16,
      "outputs": [
        {
          "output_type": "execute_result",
          "data": {
            "text/plain": [
              "('green', 'blue', 'yellow')"
            ]
          },
          "metadata": {},
          "execution_count": 16
        }
      ]
    },
    {
      "cell_type": "code",
      "source": [
        "#Write a code to find the minimum number in the tuple (10, 20, 5, 15).\n",
        "my_tuple = (10,20,5,15)\n",
        "min(my_tuple)"
      ],
      "metadata": {
        "colab": {
          "base_uri": "https://localhost:8080/"
        },
        "id": "1xJ32W-QtjKU",
        "outputId": "d79e9bab-1d27-4eba-f91f-293f11d19a3e"
      },
      "execution_count": 19,
      "outputs": [
        {
          "output_type": "execute_result",
          "data": {
            "text/plain": [
              "5"
            ]
          },
          "metadata": {},
          "execution_count": 19
        }
      ]
    },
    {
      "cell_type": "code",
      "source": [
        "# Write a code to find the index of the element \"cat\" in the tuple ('dog', 'cat', 'rabbit')\n",
        "my_tuple = ('dog', 'cat', 'rabbit')\n",
        "my_tuple.index('cat')"
      ],
      "metadata": {
        "colab": {
          "base_uri": "https://localhost:8080/"
        },
        "id": "UMVy3wJfuI_K",
        "outputId": "18474e77-5cbb-4ec8-b554-c7a73aa992b0"
      },
      "execution_count": 21,
      "outputs": [
        {
          "output_type": "execute_result",
          "data": {
            "text/plain": [
              "1"
            ]
          },
          "metadata": {},
          "execution_count": 21
        }
      ]
    },
    {
      "cell_type": "code",
      "source": [
        "# Write a code to create a tuple containing three different fruits and check if \"kiwi\" is in it.\n",
        "my_tuple = ('apple','orange','kiwi')\n",
        "'kiwi' in my_tuple"
      ],
      "metadata": {
        "colab": {
          "base_uri": "https://localhost:8080/"
        },
        "id": "E1m29Y3jukae",
        "outputId": "ed9b2be7-4d38-4d8c-d544-0281cbfd7596"
      },
      "execution_count": 22,
      "outputs": [
        {
          "output_type": "execute_result",
          "data": {
            "text/plain": [
              "True"
            ]
          },
          "metadata": {},
          "execution_count": 22
        }
      ]
    },
    {
      "cell_type": "code",
      "source": [
        "# Write a code to create a set with the elements 'a', 'b', 'c' and print it.\n",
        "ele = {'a','b','c'}\n",
        "print(ele)"
      ],
      "metadata": {
        "colab": {
          "base_uri": "https://localhost:8080/"
        },
        "id": "lSBHe9jou2dg",
        "outputId": "a64bdfcf-3e6d-4eb2-9231-0789f10b2806"
      },
      "execution_count": 28,
      "outputs": [
        {
          "output_type": "stream",
          "name": "stdout",
          "text": [
            "{'b', 'c', 'a'}\n"
          ]
        }
      ]
    },
    {
      "cell_type": "code",
      "source": [
        "#Write a code to clear all elements from the set {1, 2, 3, 4, 5}.\n",
        "ele = {1,2,3,4,5}\n",
        "ele.clear()\n",
        "ele"
      ],
      "metadata": {
        "colab": {
          "base_uri": "https://localhost:8080/"
        },
        "id": "Pv70-Gy6vetD",
        "outputId": "7a158331-e205-4aff-e18a-88a5a7eca106"
      },
      "execution_count": 30,
      "outputs": [
        {
          "output_type": "execute_result",
          "data": {
            "text/plain": [
              "set()"
            ]
          },
          "metadata": {},
          "execution_count": 30
        }
      ]
    },
    {
      "cell_type": "code",
      "source": [
        "#Write a code to remove the element 4 from the set {1, 2, 3, 4}.\n",
        "ele = {1,2,3,4}\n",
        "ele.remove(4)\n",
        "ele"
      ],
      "metadata": {
        "colab": {
          "base_uri": "https://localhost:8080/"
        },
        "id": "M-WaTkZlvp7M",
        "outputId": "6909ec1b-a277-480f-f0ef-0382c7c1d3b0"
      },
      "execution_count": 32,
      "outputs": [
        {
          "output_type": "execute_result",
          "data": {
            "text/plain": [
              "{1, 2, 3}"
            ]
          },
          "metadata": {},
          "execution_count": 32
        }
      ]
    },
    {
      "cell_type": "code",
      "source": [
        "#Write a code to find the union of two sets {1, 2, 3} and {3, 4, 5}.\n",
        "set1 = {1,2,3}\n",
        "set2 = {3,4,5}\n",
        "set1 | set2"
      ],
      "metadata": {
        "colab": {
          "base_uri": "https://localhost:8080/"
        },
        "id": "nRIX1lQwv5td",
        "outputId": "42c1c8e7-61a9-42d0-a250-84738725ab55"
      },
      "execution_count": 33,
      "outputs": [
        {
          "output_type": "execute_result",
          "data": {
            "text/plain": [
              "{1, 2, 3, 4, 5}"
            ]
          },
          "metadata": {},
          "execution_count": 33
        }
      ]
    },
    {
      "cell_type": "code",
      "source": [
        "#Write a code to find the intersection of two sets {1, 2, 3} and {2, 3, 4}.\n",
        "set1 = {1,2,3}\n",
        "set2 = {2,3,4}\n",
        "set1 & set2"
      ],
      "metadata": {
        "colab": {
          "base_uri": "https://localhost:8080/"
        },
        "id": "sWzrtZOwwENl",
        "outputId": "49b2c140-3ca3-4e2d-f585-2ebab9c08f81"
      },
      "execution_count": 34,
      "outputs": [
        {
          "output_type": "execute_result",
          "data": {
            "text/plain": [
              "{2, 3}"
            ]
          },
          "metadata": {},
          "execution_count": 34
        }
      ]
    },
    {
      "cell_type": "code",
      "source": [
        "#Write a code to create a dictionary with the keys \"name\", \"age\", and \"city\", and print it.\n",
        "my_dict = {\n",
        "    \"name\": \"Alice\",\n",
        "    \"age\": 30,\n",
        "    \"city\": \"New York\"\n",
        "}\n",
        "print(my_dict)\n"
      ],
      "metadata": {
        "colab": {
          "base_uri": "https://localhost:8080/"
        },
        "id": "cwgTB7SgwiZR",
        "outputId": "a49c9745-c7cf-46fc-9a83-849015abd430"
      },
      "execution_count": 35,
      "outputs": [
        {
          "output_type": "stream",
          "name": "stdout",
          "text": [
            "{'name': 'Alice', 'age': 30, 'city': 'New York'}\n"
          ]
        }
      ]
    },
    {
      "cell_type": "code",
      "source": [
        "# Write a code to add a new key-value pair \"country\": \"USA\" to the dictionary {'name': 'John', 'age': 25}.\n",
        "my_dict = {'name':'john','age':25}\n",
        "my_dict['country'] = 'USA'\n",
        "my_dict"
      ],
      "metadata": {
        "colab": {
          "base_uri": "https://localhost:8080/"
        },
        "id": "zOzZ8j0zwtI-",
        "outputId": "19ad102c-066f-4817-a8d1-ae689bf9e28c"
      },
      "execution_count": 38,
      "outputs": [
        {
          "output_type": "execute_result",
          "data": {
            "text/plain": [
              "{'name': 'john', 'age': 25, 'country': 'USA'}"
            ]
          },
          "metadata": {},
          "execution_count": 38
        }
      ]
    },
    {
      "cell_type": "code",
      "source": [
        "# Write a code to access the value associated with the key \"name\" in the dictionary {'name': 'Alice', 'age': 30}.\n",
        "my_dict = {'name': 'Alice', 'age': 30}\n",
        "my_dict['name']"
      ],
      "metadata": {
        "colab": {
          "base_uri": "https://localhost:8080/",
          "height": 35
        },
        "id": "_vjjDt_IykAB",
        "outputId": "76197d04-25a6-46d3-e116-9dc8db4c6cb9"
      },
      "execution_count": 42,
      "outputs": [
        {
          "output_type": "execute_result",
          "data": {
            "text/plain": [
              "'Alice'"
            ],
            "application/vnd.google.colaboratory.intrinsic+json": {
              "type": "string"
            }
          },
          "metadata": {},
          "execution_count": 42
        }
      ]
    },
    {
      "cell_type": "code",
      "source": [
        "# Write a code to remove the key \"age\" from the dictionary {'name': 'Bob', 'age': 22, 'city': 'New York}\n",
        "my_dict = {'name': 'Bob', 'age': 22, 'city': 'New York'}\n",
        "del my_dict['age']\n",
        "print(my_dict)\n"
      ],
      "metadata": {
        "colab": {
          "base_uri": "https://localhost:8080/"
        },
        "id": "zt5YYrKJyqt-",
        "outputId": "0af99528-4936-45d6-d03b-cf8820a5af50"
      },
      "execution_count": 43,
      "outputs": [
        {
          "output_type": "stream",
          "name": "stdout",
          "text": [
            "{'name': 'Bob', 'city': 'New York'}\n"
          ]
        }
      ]
    },
    {
      "cell_type": "code",
      "source": [
        "#Write a code to check if the key \"city\" exists in the dictionary {'name': 'Alice', 'city': 'Paris'}.\n",
        "my_dict = {'name': 'Alice', 'city': 'Paris'}\n",
        "'city' in my_dict"
      ],
      "metadata": {
        "colab": {
          "base_uri": "https://localhost:8080/"
        },
        "id": "2NVPsfqTzfA0",
        "outputId": "2c607e66-055e-4844-d30a-3789c41f4f4e"
      },
      "execution_count": 44,
      "outputs": [
        {
          "output_type": "execute_result",
          "data": {
            "text/plain": [
              "True"
            ]
          },
          "metadata": {},
          "execution_count": 44
        }
      ]
    },
    {
      "cell_type": "code",
      "source": [
        "#Write a code to create a list, a tuple, and a dictionary, and print them all.\n",
        "# Create a list\n",
        "my_list = ['apple', 'banana', 'cherry']\n",
        "\n",
        "# Create a tuple\n",
        "my_tuple = (100, 200, 300)\n",
        "\n",
        "# Create a dictionary\n",
        "my_dict = {\"name\": \"Alice\", \"age\": 30, \"city\": \"New York\"}\n",
        "\n",
        "# Print all\n",
        "print(\"List:\", my_list)\n",
        "print(\"Tuple:\", my_tuple)\n",
        "print(\"Dictionary:\", my_dict)\n"
      ],
      "metadata": {
        "colab": {
          "base_uri": "https://localhost:8080/"
        },
        "id": "STa1m7KFzvYe",
        "outputId": "d2e01afb-e165-484a-f0d2-72188f9c41eb"
      },
      "execution_count": 45,
      "outputs": [
        {
          "output_type": "stream",
          "name": "stdout",
          "text": [
            "List: ['apple', 'banana', 'cherry']\n",
            "Tuple: (100, 200, 300)\n",
            "Dictionary: {'name': 'Alice', 'age': 30, 'city': 'New York'}\n"
          ]
        }
      ]
    },
    {
      "cell_type": "code",
      "source": [
        "#Write a code to create a list of 5 random numbers between 1 and 100, sort it in ascending order, and print the result(replaced)\n",
        "import random\n",
        "\n",
        "# Generate a list of 5 random numbers between 1 and 100\n",
        "random_numbers = random.sample(range(1, 101), 5)\n",
        "\n",
        "# Sort the list in ascending order\n",
        "random_numbers.sort()\n",
        "\n",
        "# Print the sorted list\n",
        "print(random_numbers)\n"
      ],
      "metadata": {
        "colab": {
          "base_uri": "https://localhost:8080/"
        },
        "id": "rzwLP3b40hsW",
        "outputId": "8ed37bd4-842e-4507-861a-a1e84846550b"
      },
      "execution_count": 46,
      "outputs": [
        {
          "output_type": "stream",
          "name": "stdout",
          "text": [
            "[52, 76, 91, 92, 93]\n"
          ]
        }
      ]
    },
    {
      "cell_type": "code",
      "source": [
        "#Write a code to create a list with strings and print the element at the third index.\n",
        "# Create a list of strings\n",
        "my_list = ['apple', 'banana', 'cherry', 'date', 'elderberry']\n",
        "\n",
        "# Access and print the element at the third index\n",
        "print(my_list[3])\n"
      ],
      "metadata": {
        "colab": {
          "base_uri": "https://localhost:8080/"
        },
        "id": "6RtNoTDn02W2",
        "outputId": "82a50c0f-e245-4857-de9c-2fa09667b291"
      },
      "execution_count": 47,
      "outputs": [
        {
          "output_type": "stream",
          "name": "stdout",
          "text": [
            "date\n"
          ]
        }
      ]
    },
    {
      "cell_type": "code",
      "source": [
        "#Write a code to combine two dictionaries into one and print the result.\n",
        "dict1 = {'name': 'John', 'age': 25}\n",
        "dict2 = {'city': 'New York', 'country': 'USA'}\n",
        "dict1.update(dict2)\n",
        "dict1"
      ],
      "metadata": {
        "colab": {
          "base_uri": "https://localhost:8080/"
        },
        "id": "TfNQNV5F1Hqa",
        "outputId": "33461b2c-6e5b-4250-ae2c-1e4294b4eeb7"
      },
      "execution_count": 50,
      "outputs": [
        {
          "output_type": "execute_result",
          "data": {
            "text/plain": [
              "{'name': 'John', 'age': 25, 'city': 'New York', 'country': 'USA'}"
            ]
          },
          "metadata": {},
          "execution_count": 50
        }
      ]
    },
    {
      "cell_type": "code",
      "source": [
        "#Write a code to convert a list of strings into a set\n",
        "my_list = ['apple', 'banana', 'apple', 'cherry', 'banana']\n",
        "my_set = set(my_list)\n",
        "print(my_set)\n"
      ],
      "metadata": {
        "colab": {
          "base_uri": "https://localhost:8080/"
        },
        "id": "5AV97kin1jXe",
        "outputId": "961be0d0-e500-44eb-9c33-783af5b30dcb"
      },
      "execution_count": 51,
      "outputs": [
        {
          "output_type": "stream",
          "name": "stdout",
          "text": [
            "{'banana', 'apple', 'cherry'}\n"
          ]
        }
      ]
    }
  ]
}