{
  "nbformat": 4,
  "nbformat_minor": 0,
  "metadata": {
    "colab": {
      "provenance": []
    },
    "kernelspec": {
      "name": "python3",
      "display_name": "Python 3"
    },
    "language_info": {
      "name": "python"
    }
  },
  "cells": [
    {
      "cell_type": "code",
      "execution_count": null,
      "metadata": {
        "id": "uUOKeaVKuYv6"
      },
      "outputs": [],
      "source": []
    },
    {
      "cell_type": "markdown",
      "source": [
        "1. What is Object-Oriented Programming (OOP)?\n",
        "ans Object-Oriented Programming (OOP) is a programming paradigm that organizes software design around the concept of \"objects,\" which are instances of classes that can contain both data (attributes) and behaviors (methods). OOP is designed to model real-world entities by grouping related properties and actions together, making code more modular, reusable, and easier to maintain.\n",
        "\n",
        "2. What is a class in OOP?\n",
        "ans A class in Object-Oriented Programming (OOP) is a blueprint or template for creating objects, which are specific instances that contain both data (attributes) and behavior (methods).\n",
        "\n",
        "3. What is an object in OOP?\n",
        "ans An object in Object-Oriented Programming (OOP) is an instance of a class that encapsulates both data (attributes) and behavior (methods).\n",
        "\n",
        "4. What is the difference between abstraction and encapsulation?\n",
        "ans Abstraction is the process of hiding complex implementation details and showing only the essential features or functionality to the user. It focuses on \"what\" an object does rather than \"how\" it does it. For example, when driving a car, a driver uses the steering wheel and pedals without needing to know the intricate details of the engine's operation.​\n",
        "\n",
        "Encapsulation is the process of bundling data (attributes) and the methods (functions) that operate on that data into a single unit, typically a class, and restricting access to some of the object's components. This is often achieved using access modifiers like private, protected, and public. Encapsulation is concerned with \"how\" the object operates internally and provides controlled interfaces (like getters and setters) to access or modify the data\n",
        "\n",
        "5. What are dunder methods in Python?\n",
        "ans Dunder methods in Python, also known as magic methods or special methods, are predefined methods that have names starting and ending with double underscores (hence \"dunder\" for \"double underscore\") like __init__, __str__, and __add__.\n",
        "\n",
        "6. Explain the concept of inheritance in OOP?\n",
        "ans Inheritance in Object-Oriented Programming (OOP) is a mechanism that allows one class (called the child class, subclass, or derived class) to inherit properties (attributes) and behaviors (methods) from another class (called the parent class, superclass, or base class).\n",
        "\n",
        "7. What is polymorphism in OOP?\n",
        "ans Polymorphism in Object-Oriented Programming (OOP) is the ability of objects to take on many forms or behave differently depending on the context in which they are used. It allows a single interface or method to be used for different underlying data types or classes, enabling one function or method call to have different behaviors based on the object that is calling it.\n",
        "\n",
        "8. How is encapsulation achieved in Python?\n",
        "ans Encapsulation in Python is achieved by bundling data (attributes) and methods (functions) that operate on the data within a single unit, typically a class, and restricting direct access to some of the object's components to protect the internal state.\n",
        "\n",
        "9. What is a constructor in Python?\n",
        "ans A constructor in Python is a special method within a class that is automatically called when a new object (instance) of the class is created. Its main purpose is to initialize the object's attributes and set up its initial state.\n",
        "\n",
        "10. What are class and static methods in Python?\n",
        "ans A constructor in Python is a special method within a class that is automatically called when a new object (instance) of the class is created. Its main purpose is to initialize the object's attributes and set up its initial state.\n",
        "\n",
        "11. What is method overloading in Python?\n",
        "ans Method overloading in Python refers to the concept where multiple methods have the same name but differ in the number or types of their parameters. However, unlike some other programming languages like Java or C++, Python does not natively support method overloading. If multiple methods with the same name are defined, the latest definition will override the previous ones.\n",
        "\n",
        "12. What is method overriding in OOP?\n",
        "ans Method overriding in Object-Oriented Programming (OOP) is a feature that allows a subclass (child class) to provide a specific implementation of a method that is already defined in its superclass (parent class). This means that the child class can modify or extend the behavior of the inherited method to suit its own needs.\n",
        "\n",
        "13. What is a property decorator in Python?\n",
        "ans A property decorator in Python is a built-in decorator @property that allows class methods to be accessed like attributes, enabling cleaner and more controlled access to instance variables.\n",
        "\n",
        "14. Why is polymorphism important in OOP?\n",
        "ans Polymorphism is important in Object-Oriented Programming (OOP) because it enables flexibility, code reusability, and maintainability in software design. Here are the key reasons why polymorphism is essential:​\n",
        "\n",
        "Flexibility: Polymorphism allows objects of different classes to be treated as objects of a common superclass or interface, meaning the same method or function can work with different types of objects seamlessly. This makes code more adaptable to changing requirements.​\n",
        "\n",
        "Code Reusability: It promotes code reuse by allowing developers to use shared interfaces and methods that work uniformly on multiple object types, reducing the need for duplicate code.\n",
        "\n",
        "15. What is an abstract class in Python?\n",
        "ans An abstract class in Python is a class that cannot be instantiated on its own and is designed to serve as a blueprint for other classes. It is used to define common interfaces and enforce that certain methods must be implemented by any subclass, ensuring consistency across different implementations.\n",
        "\n",
        "16. What are the advantages of OOP?\n",
        "ans The advantages of Object-Oriented Programming (OOP) include:\n",
        "\n",
        "Modularity: OOP breaks down a program into smaller, manageable objects or modules. This modular structure makes it easier to design, understand, and maintain complex software systems.​\n",
        "\n",
        "Code Reusability: Through inheritance, existing code can be reused in new objects or classes, reducing redundancy and increasing development efficiency.​Encapsulation: OOP emphasizes data hiding by bundling data and methods operating on that data within objects. This enhances security and protects data from unintended interference.\n",
        "\n",
        "17. What is the difference between a class variable and an instance variable?\n",
        "ans Class Variable: Shared variable whose value is common to all instances. For example, a variable counting the total number of objects created can be a class variable since it needs to be common.​​\n",
        "\n",
        "Instance Variable: Belongs to each individual object and stores data unique to that object. Each object has its own copy of instance variables.\n",
        "\n",
        "18. What is multiple inheritance in Python?\n",
        "ans Multiple inheritance in Python is a feature where a class can inherit attributes and methods from more than one parent class. This allows one class (the derived class) to combine behaviors and properties from multiple base classes, enabling more flexible and reusable designs.\n",
        "\n",
        "19. Explain the purpose of ‘’__str__’ and ‘__repr__’ ‘ methods in Python?\n",
        "ans __str__\n",
        "Intended to return a user-friendly, readable string representation of an object.\n",
        "\n",
        "Used by the print() function and str() built-in.\n",
        "\n",
        "Focuses on giving a concise, easy-to-understand summary for end users.\n",
        "\n",
        "If __str__ is not defined, Python falls back to using __repr__.\n",
        "\n",
        "__repr__\n",
        "Intended to return an unambiguous and detailed string representation of the object.\n",
        "\n",
        "Used by the repr() function and in interactive shells (REPL) when displaying an object.\n",
        "\n",
        "The goal is to provide a string that, if possible, could be used to recreate the object (often valid Python code).\n",
        "\n",
        "Mainly aimed at developers for debugging and logging.\n",
        "\n",
        "20. What is the significance of the ‘super()’ function in Python?\n",
        "ans The super() function in Python is significant because it allows a subclass to access methods and properties of its parent (superclass) without explicitly naming the parent class. This is particularly useful in inheritance to extend or override parent class behavior while still reusing the parent's functionality.\n",
        "\n",
        "21. What is the significance of the __del__ method in Python?\n",
        "ans The __del__ method in Python is a special method known as a destructor and is called when an object is about to be destroyed by the garbage collector, typically when all references to the object are gone. It allows you to define cleanup actions that should be performed before the object is removed from memory, such as releasing external resources like files, network connections, or database connections.\n",
        "\n",
        "22. What is the difference between @staticmethod and @classmethod in Python?\n",
        "ans A class method receives the class itself as the first implicit argument (cls). It can modify class state that applies across all instances and is often used for factory methods that instantiate the class differently.​\n",
        "\n",
        "A static method behaves like a regular function defined inside a class without access to class or instance data. It is used for utility functions that logically belong to the class but don’t need to modify or access class or instance state.\n",
        "\n",
        "23. How does polymorphism work in Python with inheritance?\n",
        "ans Polymorphism in Python works with inheritance by allowing objects of different classes to be treated as instances of a common superclass, especially when they share the same method signatures. This allows the same method call to behave differently depending on the object's class, enabling flexible and reusable code.\n",
        "\n",
        "24. What is method chaining in Python OOP?\n",
        "ans Method chaining in Python OOP is a programming technique where multiple methods are called sequentially on the same object in a single expression. Each method returns the object itself (usually self), allowing the next method to be called directly on that object without breaking the chain.\n",
        "\n",
        "25. What is the purpose of the __call__ method in Python?\n",
        "ans The __call__ method in Python is a special method that allows an instance of a class to be called as if it were a regular function. When the __call__ method is defined in a class, the object of that class becomes \"callable,\" meaning you can use parentheses () to invoke it directly."
      ],
      "metadata": {
        "id": "VTZuZ-r2ubBR"
      }
    },
    {
      "cell_type": "code",
      "source": [
        "#Create a parent class Animal with a method speak() that prints a generic message. Create a child class Dog that overrides the speak() method to print \"Bark!\".\n",
        "class Animal:\n",
        "    def speak(self):\n",
        "        print(\"This animal makes a sound\")\n",
        "\n",
        "class Dog(Animal):\n",
        "    def speak(self):\n",
        "        print(\"Bark!\")\n",
        "animal = Animal()\n",
        "animal.speak()  # Output: This animal makes a sound\n",
        "\n",
        "dog = Dog()\n",
        "dog.speak()"
      ],
      "metadata": {
        "colab": {
          "base_uri": "https://localhost:8080/"
        },
        "id": "U5w9qvRLAMoJ",
        "outputId": "3205b369-1582-4285-b772-5876450418a4"
      },
      "execution_count": 1,
      "outputs": [
        {
          "output_type": "stream",
          "name": "stdout",
          "text": [
            "This animal makes a sound\n",
            "Bark!\n"
          ]
        }
      ]
    },
    {
      "cell_type": "code",
      "source": [
        "#Write a program to create an abstract class Shape with a method area(). Derive classes Circle and Rectangle from it and implement the area() method in both.\n",
        "from abc import ABC, abstractmethod\n",
        "import math\n",
        "class Shape(ABC):\n",
        "    @abstractmethod\n",
        "    def area(self):\n",
        "        pass\n",
        "\n",
        "class Circle(Shape):\n",
        "    def __init__(self, radius):\n",
        "        self.radius = radius\n",
        "\n",
        "    def area(self):\n",
        "        return math.pi * self.radius ** 2\n",
        "\n",
        "class Rectangle(Shape):\n",
        "    def __init__(self, width, height):\n",
        "        self.width = width\n",
        "        self.height = height\n",
        "\n",
        "    def area(self):\n",
        "        return self.width * self.height\n",
        "\n",
        "# Example usage\n",
        "circle = Circle(5)\n",
        "print(f\"Circle area: {circle.area()}\")  # Output: Circle area: 78.53981633974483\n",
        "\n",
        "rectangle = Rectangle(4, 6)\n",
        "print(f\"Rectangle area: {rectangle.area()}\")  # Output: Rectangle area: 24\n"
      ],
      "metadata": {
        "colab": {
          "base_uri": "https://localhost:8080/"
        },
        "id": "8KzgfySfA_ix",
        "outputId": "6f8cd586-545d-4feb-8b0a-2eadcf31eb75"
      },
      "execution_count": 4,
      "outputs": [
        {
          "output_type": "stream",
          "name": "stdout",
          "text": [
            "Circle area: 78.53981633974483\n",
            "Rectangle area: 24\n"
          ]
        }
      ]
    },
    {
      "cell_type": "code",
      "source": [
        "# Implement a multi-level inheritance scenario where a class Vehicle has an attribute type. Derive a class Car and further derive a class ElectricCar that adds a battery attribute\n",
        "class Vehicle:\n",
        "    def __init__(self, vehicle_type):\n",
        "        self.type = vehicle_type\n",
        "\n",
        "class Car(Vehicle):\n",
        "    def __init__(self, vehicle_type, brand):\n",
        "        super().__init__(vehicle_type)\n",
        "        self.brand = brand\n",
        "\n",
        "class ElectricCar(Car):\n",
        "    def __init__(self, vehicle_type, brand, battery_capacity):\n",
        "        super().__init__(vehicle_type, brand)\n",
        "        self.battery = battery_capacity\n",
        "\n",
        "# Example usage\n",
        "ecar = ElectricCar(\"Electric\", \"Tesla\", \"85 kWh\")\n",
        "print(f\"Type: {ecar.type}, Brand: {ecar.brand}, Battery: {ecar.battery}\")\n"
      ],
      "metadata": {
        "colab": {
          "base_uri": "https://localhost:8080/"
        },
        "id": "cA4_S4ZEBpn6",
        "outputId": "64337452-2a9f-4dfb-d246-63d4fa76f4dd"
      },
      "execution_count": 5,
      "outputs": [
        {
          "output_type": "stream",
          "name": "stdout",
          "text": [
            "Type: Electric, Brand: Tesla, Battery: 85 kWh\n"
          ]
        }
      ]
    },
    {
      "cell_type": "code",
      "source": [
        "#Demonstrate polymorphism by creating a base class Bird with a method fly(). Create two derived classes Sparrow and Penguin that override the fly() method.\n",
        "class Bird:\n",
        "    def fly(self):\n",
        "        print(\"Most birds can fly.\")\n",
        "\n",
        "class Sparrow(Bird):\n",
        "    def fly(self):\n",
        "        print(\"Sparrow can fly.\")\n",
        "\n",
        "class Penguin(Bird):\n",
        "    def fly(self):\n",
        "        print(\"Penguins cannot fly.\")\n",
        "\n",
        "# Example usage\n",
        "birds = [Sparrow(), Penguin()]\n",
        "\n",
        "for bird in birds:\n",
        "    bird.fly()\n"
      ],
      "metadata": {
        "colab": {
          "base_uri": "https://localhost:8080/"
        },
        "id": "iNpF4msmB2Lz",
        "outputId": "10310ca0-ab82-4ea0-ed7c-140d02c0bba6"
      },
      "execution_count": 6,
      "outputs": [
        {
          "output_type": "stream",
          "name": "stdout",
          "text": [
            "Sparrow can fly.\n",
            "Penguins cannot fly.\n"
          ]
        }
      ]
    },
    {
      "cell_type": "code",
      "source": [
        "#Write a program to demonstrate encapsulation by creating a class BankAccount with private attributes balance and methods to deposit, withdraw, and check balance.\n",
        "class BankAccount:\n",
        "    def __init__(self, initial_balance=0):\n",
        "        self.__balance = initial_balance  # Private attribute\n",
        "\n",
        "    def deposit(self, amount):\n",
        "        if amount > 0:\n",
        "            self.__balance += amount\n",
        "            print(f\"Deposited ${amount}. New balance: ${self.__balance}\")\n",
        "        else:\n",
        "            print(\"Deposit amount must be positive.\")\n",
        "\n",
        "    def withdraw(self, amount):\n",
        "        if amount > 0 and amount <= self.__balance:\n",
        "            self.__balance -= amount\n",
        "            print(f\"Withdrew ${amount}. New balance: ${self.__balance}\")\n",
        "        elif amount > self.__balance:\n",
        "            print(\"Insufficient balance.\")\n",
        "        else:\n",
        "            print(\"Withdrawal amount must be positive.\")\n",
        "\n",
        "    def check_balance(self):\n",
        "        return self.__balance\n",
        "\n",
        "account = BankAccount(100)\n",
        "account.deposit(50)         # Deposited $50. New balance: $150\n",
        "account.withdraw(30)        # Withdrew $30. New balance: $120\n",
        "print(f\"Current balance: ${account.check_balance()}\")\n"
      ],
      "metadata": {
        "colab": {
          "base_uri": "https://localhost:8080/"
        },
        "id": "MmiXMNG4CN5B",
        "outputId": "21f61712-21f9-4eba-ab0d-eb40d29ae125"
      },
      "execution_count": 11,
      "outputs": [
        {
          "output_type": "stream",
          "name": "stdout",
          "text": [
            "Deposited $50. New balance: $150\n",
            "Withdrew $30. New balance: $120\n",
            "Current balance: $120\n"
          ]
        }
      ]
    },
    {
      "cell_type": "code",
      "source": [
        "# Demonstrate runtime polymorphism using a method play() in a base class Instrument. Derive classes Guitar and Piano that implement their own version of play()\n",
        "class Instrument:\n",
        "    def play(self):\n",
        "        print(\"Playing an instrument\")\n",
        "\n",
        "class Guitar(Instrument):\n",
        "    def play(self):\n",
        "        print(\"Playing the guitar\")\n",
        "\n",
        "class Piano(Instrument):\n",
        "    def play(self):\n",
        "        print(\"Playing the piano\")\n",
        "\n",
        "# Example usage\n",
        "instruments = [Guitar(), Piano()]\n",
        "\n",
        "for instrument in instruments:\n",
        "    instrument.play()\n"
      ],
      "metadata": {
        "colab": {
          "base_uri": "https://localhost:8080/"
        },
        "id": "HF3y47GSCx8z",
        "outputId": "837929af-4967-4e8c-ca33-7ed91aada9a6"
      },
      "execution_count": 12,
      "outputs": [
        {
          "output_type": "stream",
          "name": "stdout",
          "text": [
            "Playing the guitar\n",
            "Playing the piano\n"
          ]
        }
      ]
    },
    {
      "cell_type": "code",
      "source": [
        "#Create a class MathOperations with a class method add_numbers() to add two numbers and a static method subtract_numbers() to subtract two numbers\n",
        "class MathOperations:\n",
        "    @classmethod\n",
        "    def add_numbers(cls, a, b):\n",
        "        return a + b\n",
        "\n",
        "    @staticmethod\n",
        "    def subtract_numbers(a, b):\n",
        "        return a - b\n",
        "\n",
        "# Example usage\n",
        "print(MathOperations.add_numbers(10, 5))       # Output: 15\n",
        "print(MathOperations.subtract_numbers(10, 5))  # Output: 5\n"
      ],
      "metadata": {
        "colab": {
          "base_uri": "https://localhost:8080/"
        },
        "id": "NoDOFDF-C_67",
        "outputId": "4f883a13-8947-4d9c-8759-cb29377ed651"
      },
      "execution_count": 13,
      "outputs": [
        {
          "output_type": "stream",
          "name": "stdout",
          "text": [
            "15\n",
            "5\n"
          ]
        }
      ]
    },
    {
      "cell_type": "code",
      "source": [
        "# Implement a class Person with a class method to count the total number of persons created.\n",
        "class Person:\n",
        "    count = 0  # Class variable to keep track of instances\n",
        "\n",
        "    def __init__(self, name):\n",
        "        self.name = name\n",
        "        Person.count += 1  # Increment count when a new instance is created\n",
        "\n",
        "    @classmethod\n",
        "    def total_persons(cls):\n",
        "        return cls.count\n",
        "\n",
        "# Example usage\n",
        "p1 = Person(\"Alice\")\n",
        "p2 = Person(\"Bob\")\n",
        "p3 = Person(\"Charlie\")\n",
        "\n",
        "print(\"Total number of persons created:\", Person.total_persons())  # Output: 3\n"
      ],
      "metadata": {
        "colab": {
          "base_uri": "https://localhost:8080/"
        },
        "id": "xU-Y4XJHDWQ2",
        "outputId": "188211f3-0002-4161-bd8f-dbffb49c5a29"
      },
      "execution_count": 15,
      "outputs": [
        {
          "output_type": "stream",
          "name": "stdout",
          "text": [
            "Total number of persons created: 3\n"
          ]
        }
      ]
    },
    {
      "cell_type": "code",
      "source": [
        "# Write a class Fraction with attributes numerator and denominator. Override the str method to display the fraction as \"numerator/denominator\".\n",
        "class Fraction:\n",
        "    def __init__(self, numerator, denominator):\n",
        "        self.numerator = numerator\n",
        "        self.denominator = denominator\n",
        "\n",
        "    def __str__(self):\n",
        "        return f\"{self.numerator}/{self.denominator}\"\n",
        "\n",
        "# Example usage\n",
        "frac = Fraction(3, 4)\n",
        "print(frac)  # Output: 3/4\n"
      ],
      "metadata": {
        "colab": {
          "base_uri": "https://localhost:8080/"
        },
        "id": "JZ-3_qHLDhP4",
        "outputId": "01e25c1e-73e5-4296-c021-89cedcddfdaf"
      },
      "execution_count": 16,
      "outputs": [
        {
          "output_type": "stream",
          "name": "stdout",
          "text": [
            "3/4\n"
          ]
        }
      ]
    },
    {
      "cell_type": "code",
      "source": [
        "#Demonstrate operator overloading by creating a class Vector and overriding the add method to add two vectors.\n",
        "class Vector:\n",
        "    def __init__(self, x, y):\n",
        "        self.x = x\n",
        "        self.y = y\n",
        "\n",
        "    def __add__(self, other):\n",
        "        return Vector(self.x + other.x, self.y + other.y)\n",
        "\n",
        "    def __str__(self):\n",
        "        return f\"Vector({self.x}, {self.y})\"\n",
        "\n",
        "# Example usage\n",
        "v1 = Vector(2, 3)\n",
        "v2 = Vector(4, 1)\n",
        "v3 = v1 + v2\n",
        "\n",
        "print(v3)  # Output: Vector(6, 4)\n"
      ],
      "metadata": {
        "colab": {
          "base_uri": "https://localhost:8080/"
        },
        "id": "ZDqjt3gHD0QU",
        "outputId": "f742a7e0-013f-414c-ec6b-5088f4e34cd7"
      },
      "execution_count": 17,
      "outputs": [
        {
          "output_type": "stream",
          "name": "stdout",
          "text": [
            "Vector(6, 4)\n"
          ]
        }
      ]
    },
    {
      "cell_type": "code",
      "source": [
        "#Create a class Person with attributes name and age. Add a method greet() that prints \"Hello, my name is {name} and I am {age} years old\n",
        "class Person:\n",
        "    def __init__(self, name, age):\n",
        "        self.name = name\n",
        "        self.age = age\n",
        "\n",
        "    def greet(self):\n",
        "        print(f\"Hello, my name is {self.name} and I am {self.age} years old\")\n",
        "\n",
        "# Example usage\n",
        "person1 = Person(\"Alice\", 30)\n",
        "person1.greet()  # Output: Hello, my name is Alice and I am 30 years old\n"
      ],
      "metadata": {
        "colab": {
          "base_uri": "https://localhost:8080/"
        },
        "id": "o_mbsXWGD_vj",
        "outputId": "7af422ce-a1cd-401e-ac83-9468ba012bab"
      },
      "execution_count": 18,
      "outputs": [
        {
          "output_type": "stream",
          "name": "stdout",
          "text": [
            "Hello, my name is Alice and I am 30 years old\n"
          ]
        }
      ]
    },
    {
      "cell_type": "code",
      "source": [
        "# Implement a class Student with attributes name and grades. Create a method average_grade() to compute the average of the grades.\n",
        "class Student:\n",
        "    def __init__(self, name, grades):\n",
        "        self.name = name\n",
        "        self.grades = grades  # Expecting a list of numbers\n",
        "\n",
        "    def average_grade(self):\n",
        "        if not self.grades:\n",
        "            return 0\n",
        "        return sum(self.grades) / len(self.grades)\n",
        "\n",
        "# Example usage\n",
        "student1 = Student(\"Alice\", [85, 90, 78, 92])\n",
        "print(f\"{student1.name}'s average grade: {student1.average_grade()}\")  # Output: Alice's average grade: 86.25\n"
      ],
      "metadata": {
        "colab": {
          "base_uri": "https://localhost:8080/"
        },
        "id": "pIzsYSBqET85",
        "outputId": "0c1638cc-a83b-4690-f4c9-9e1cc570d2f6"
      },
      "execution_count": 19,
      "outputs": [
        {
          "output_type": "stream",
          "name": "stdout",
          "text": [
            "Alice's average grade: 86.25\n"
          ]
        }
      ]
    },
    {
      "cell_type": "code",
      "source": [
        "#Create a class Rectangle with methods set_dimensions() to set the dimensions and area() to calculate the area.\n",
        "class Rectangle:\n",
        "    def __init__(self):\n",
        "        self.length = 0\n",
        "        self.width = 0\n",
        "\n",
        "    def set_dimensions(self, length, width):\n",
        "        self.length = length\n",
        "        self.width = width\n",
        "\n",
        "    def area(self):\n",
        "        return self.length * self.width\n",
        "\n",
        "# Example usage\n",
        "rect = Rectangle()\n",
        "rect.set_dimensions(5, 10)\n",
        "print(f\"Area of the rectangle: {rect.area()}\")  # Output: Area of the rectangle: 50\n"
      ],
      "metadata": {
        "colab": {
          "base_uri": "https://localhost:8080/"
        },
        "id": "Jz85pIXQEd8k",
        "outputId": "e187090e-779d-4f33-f5a4-61e97dd2132c"
      },
      "execution_count": 20,
      "outputs": [
        {
          "output_type": "stream",
          "name": "stdout",
          "text": [
            "Area of the rectangle: 50\n"
          ]
        }
      ]
    },
    {
      "cell_type": "code",
      "source": [
        "#Create a class Employee with a method calculate_salary() that computes the salary based on hours worked and hourly rate. Create a derived class Manager that adds a bonus to the salary.\n",
        "class Employee:\n",
        "    def __init__(self, name, hours_worked, hourly_rate):\n",
        "        self.name = name\n",
        "        self.hours_worked = hours_worked\n",
        "        self.hourly_rate = hourly_rate\n",
        "\n",
        "    def calculate_salary(self):\n",
        "        return self.hours_worked * self.hourly_rate\n",
        "\n",
        "class Manager(Employee):\n",
        "    def __init__(self, name, hours_worked, hourly_rate, bonus):\n",
        "        super().__init__(name, hours_worked, hourly_rate)\n",
        "        self.bonus = bonus\n",
        "\n",
        "    def calculate_salary(self):\n",
        "        base_salary = super().calculate_salary()\n",
        "        return base_salary + self.bonus\n",
        "\n",
        "# Example usage\n",
        "emp = Employee(\"Alice\", 40, 20)\n",
        "mgr = Manager\n"
      ],
      "metadata": {
        "id": "6Of5fE0wEmi3"
      },
      "execution_count": 21,
      "outputs": []
    },
    {
      "cell_type": "code",
      "source": [
        "#Create a class Product with attributes name, price, and quantity. Implement a method total_price() that calculates the total price of the product\n",
        "class Product:\n",
        "    def __init__(self, name, price, quantity):\n",
        "        self.name = name\n",
        "        self.price = price\n",
        "        self.quantity = quantity\n",
        "\n",
        "    def total_price(self):\n",
        "        return self.price * self.quantity\n",
        "\n",
        "# Example usage\n",
        "product = Product(\"Laptop\", 1000, 3)\n",
        "print(f\"Total price for {product.name}: ${product.total_price()}\")  # Output: Total price for Laptop: $3000\n"
      ],
      "metadata": {
        "colab": {
          "base_uri": "https://localhost:8080/"
        },
        "id": "UaVofcHrEvMG",
        "outputId": "b61e889c-64ed-42a0-a998-86e51ad5915c"
      },
      "execution_count": 22,
      "outputs": [
        {
          "output_type": "stream",
          "name": "stdout",
          "text": [
            "Total price for Laptop: $3000\n"
          ]
        }
      ]
    },
    {
      "cell_type": "code",
      "source": [
        "#Create a class Animal with an abstract method sound(). Create two derived classes Cow and Sheep that implement the sound() method.\n",
        "from abc import ABC, abstractmethod\n",
        "\n",
        "class Animal(ABC):\n",
        "    @abstractmethod\n",
        "    def sound(self):\n",
        "        pass\n",
        "\n",
        "class Cow(Animal):\n",
        "    def sound(self):\n",
        "        return \"Moo\"\n",
        "\n",
        "class Sheep(Animal):\n",
        "    def sound(self):\n",
        "        return \"Baa\"\n",
        "\n",
        "# Example usage\n",
        "cow = Cow()\n",
        "sheep = Sheep()\n",
        "\n",
        "print(cow.sound())  # Output: Moo\n",
        "print(sheep.sound())  # Output: Baa\n"
      ],
      "metadata": {
        "colab": {
          "base_uri": "https://localhost:8080/"
        },
        "id": "ePJRepzrE8eP",
        "outputId": "f0b06ec1-a4c5-4b28-fb74-b395b4e4c10b"
      },
      "execution_count": 24,
      "outputs": [
        {
          "output_type": "stream",
          "name": "stdout",
          "text": [
            "Moo\n",
            "Baa\n"
          ]
        }
      ]
    },
    {
      "cell_type": "code",
      "source": [
        "#Create a class Book with attributes title, author, and year_published. Add a method get_book_info() that returns a formatted string with the book's details.\n",
        "class Book:\n",
        "    def __init__(self, title, author, year_published):\n",
        "        self.title = title\n",
        "        self.author = author\n",
        "        self.year_published = year_published\n",
        "\n",
        "    def get_book_info(self):\n",
        "        return f\"Title: {self.title}, Author: {self.author}, Year Published: {self.year_published}\"\n",
        "\n",
        "# Example usage\n",
        "book1 = Book(\"1984\", \"George Orwell\", 1949)\n",
        "print(book1.get_book_info())\n",
        "# Output: Title: 1984, Author: George Orwell, Year Published: 1949\n"
      ],
      "metadata": {
        "colab": {
          "base_uri": "https://localhost:8080/"
        },
        "id": "LjRb0JOSFHsg",
        "outputId": "e052ff8b-2967-4c33-d58a-7492c4943919"
      },
      "execution_count": 25,
      "outputs": [
        {
          "output_type": "stream",
          "name": "stdout",
          "text": [
            "Title: 1984, Author: George Orwell, Year Published: 1949\n"
          ]
        }
      ]
    },
    {
      "cell_type": "code",
      "source": [
        "#Create a class House with attributes address and price. Create a derived class Mansion that adds an attribute number_of_rooms.\n",
        "class House:\n",
        "    def __init__(self, address, price):\n",
        "        self.address = address\n",
        "        self.price = price\n",
        "\n",
        "class Mansion(House):\n",
        "    def __init__(self, address, price, number_of_rooms):\n",
        "        super().__init__(address, price)\n",
        "        self.number_of_rooms = number_of_rooms\n",
        "\n",
        "# Example usage\n",
        "house = House(\"123 Elm St\", 250000)\n",
        "mansion = Mansion(\"456 Oak Ave\", 2000000, 10)\n",
        "\n",
        "print(f\"House address: {house.address}, price: ${house.price}\")\n",
        "print(f\"Mansion address: {mansion.address}, price: ${mansion.price}, Rooms: {mansion.number_of_rooms}\")\n"
      ],
      "metadata": {
        "colab": {
          "base_uri": "https://localhost:8080/"
        },
        "id": "NKsJSumSFT6S",
        "outputId": "68b55bda-0d6f-4790-f647-28a164781109"
      },
      "execution_count": 26,
      "outputs": [
        {
          "output_type": "stream",
          "name": "stdout",
          "text": [
            "House address: 123 Elm St, price: $250000\n",
            "Mansion address: 456 Oak Ave, price: $2000000, Rooms: 10\n"
          ]
        }
      ]
    }
  ]
}