{
  "nbformat": 4,
  "nbformat_minor": 0,
  "metadata": {
    "colab": {
      "provenance": []
    },
    "kernelspec": {
      "name": "python3",
      "display_name": "Python 3"
    },
    "language_info": {
      "name": "python"
    }
  },
  "cells": [
    {
      "cell_type": "code",
      "execution_count": null,
      "metadata": {
        "id": "-LY1_cdIlzzx"
      },
      "outputs": [],
      "source": []
    },
    {
      "cell_type": "markdown",
      "source": [
        "1. What is the difference between a function and a method in Python?\n",
        "ans. A function in Python is a standalone block of code designed to perform a specific task and can be called by its name, while a method is a function that is defined within a class and is associated with an object or class instance.\n",
        "\n",
        "2. Explain the concept of function arguments and parameters in Python.\n",
        "ans In Python, parameters are variables listed inside the parentheses of a function definition, serving as placeholders for the values that will be passed into the function, while arguments are the actual values or data provided to the function when it is called.\n",
        "\n",
        "3. What are the different ways to define and call a function in Python?\n",
        "ans. Functions in Python can be defined using several approaches, and called in flexible ways using positional, keyword, default, and variable-length arguments.\n",
        "\n",
        "Using Default Arguments:\n",
        "\n",
        "Parameters can be assigned default values.\n",
        "\n",
        "python\n",
        "def greet(name=\"Guest\"):\n",
        "    print(\"Hello,\", name)\n",
        "Variable-Length Arguments:\n",
        "\n",
        "*args captures extra positional arguments; **kwargs captures extra keyword arguments.\n",
        "\n",
        "python\n",
        "def print_args(*args, **kwargs):\n",
        "    print(args, kwargs)\n",
        "\n",
        "4. What is the purpose of the `return` statement in a Python function?\n",
        "ans The return statement in a Python function serves to exit the function and send a value (or multiple values) back to the caller, allowing the result produced within the function to be used elsewhere in the program.\n",
        "\n",
        "5. What are iterators in Python and how do they differ from iterables?\n",
        "ans Iterators in Python are objects that allow traversal through a sequence, returning one element at a time, while iterables are objects that can be looped over but don’t do the iteration themselves.\n",
        "\n",
        "6.  Explain the concept of generators in Python and how they are defined.\n",
        "ans Generators in Python are a special type of function that return an iterator which yields a sequence of values one at a time, suspending and resuming their state between each yield. They are designed for efficient, memory-friendly iteration over large or infinite sequences without storing all values at once.\n",
        "\n",
        "7.  What are the advantages of using generators over regular functions?\n",
        "ans The advantages of using generators over regular functions in Python mainly revolve around memory efficiency, lazy evaluation, and performance when dealing with large or potentially infinite data sequences.\n",
        "\n",
        "8.What is a lambda function in Python and when is it typically used?\n",
        "ans. A lambda function in Python is a small anonymous function defined with the lambda keyword that can take any number of arguments but contains only a single expression. The result of this expression is automatically returned.\n",
        "\n",
        "9. Explain the purpose and usage of the `map()` function in Python.\n",
        "\n",
        "The map() function in Python is used to apply a given function to every item of an iterable (such as a list, tuple, etc.) and return an iterator (a map object) with the results. It simplifies and speeds up the process of transforming data by applying a uniform operation across all elements in an iterable without needing an explicit loop.\n",
        "\n",
        "10. What is the difference between `map()`, `reduce()`, and `filter()` functions in Python?\n",
        "ans. The map(), reduce(), and filter() functions in Python are important functional programming tools used for processing iterables like lists, but they serve different purposes:\n",
        "\n",
        "map()\n",
        "Purpose: Applies a given function to each item in an iterable (or multiple iterables) and returns a map object (an iterator) with the results.\n",
        "\n",
        "Use Case: When you want to transform or modify elements uniformly.\n",
        "\n",
        "Example: Square all numbers in a list.\n",
        "\n",
        "python\n",
        "squared = list(map(lambda x: x ** 2, [1, 2, 3]))\n",
        "# squared = [1, 4, 9]\n",
        "filter()\n",
        "Purpose: Filters elements from an iterable based on a function that returns True or False. Only elements for which the function returns True are included.\n",
        "\n",
        "Use Case: When you need to select elements that meet a condition.\n",
        "\n",
        "Example: Select even numbers from a list.\n",
        "\n",
        "python\n",
        "evens = list(filter(lambda x: x % 2 == 0, [1, 2, 3, 4]))\n",
        "# evens = [2, 4]\n",
        "reduce()\n",
        "Purpose: Accumulates elements in an iterable into a single cumulative value by applying a binary function cumulatively to the items, from left to right.\n",
        "\n",
        "Use Case: When you want to combine all items into one, such as summing or multiplying all numbers.\n",
        "\n",
        "Example: Calculate the product of numbers in a list.\n",
        "\n",
        "python\n",
        "from functools import reduce\n",
        "product = reduce(lambda x, y: x * y, [1, 2, 3, 4])\n",
        "# product = 24\n",
        "Key Differences Summary\n",
        "Function\tPurpose\tOutput\tUse Case\n",
        "map()\tApplies a transformation function\tIterable of transformed items\tModify or transform elements\n",
        "filter()\tSelects elements based on a condition\tIterable of filtered items\tFilter/select subset of elements\n",
        "reduce()\tAggregates all elements into one\tSingle cumulative value\tCombine elements into one result\n",
        "Additional Notes\n",
        "map() and filter() return iterators that can be converted to lists.\n",
        "\n",
        "reduce() returns a single value.\n",
        "\n",
        "reduce() must be imported from the functools module.\n",
        "\n",
        "They enable concise, readable, and often more efficient functional-style data processing in Python.\n",
        "\n",
        "This distinction helps choose the right function depending on whether the goal is transformation, selection, or aggregation of data.\n",
        "\n",
        "Related\n",
        "Show side-by-side code examples for map vs list comprehension\n",
        "When to use reduce instead of sum or itertools\n",
        "How to type-hint functions passed to map, filter, reduce\n",
        "Performance comparison: map/filter vs for loops in CPython\n",
        "Convert a map+filter pipeline into a generator expression.\n",
        "\n",
        "11. Using pen & Paper write the internal mechanism for sum operation using  reduce function on this given list:[47,11,42,13];\n",
        "ans. Let's walk through the internal mechanism of the sum operation using the reduce function on the list [47, 11, 42, 13] manually:\n",
        "\n",
        "Step-by-step mechanism of sum with reduce:\n",
        "Initial list:\n",
        "\n",
        "Reduce function: reduce(lambda x, y: x + y, )\n",
        "\n",
        "It takes the first two elements:\n",
        "\n",
        "47\n",
        "+\n",
        "11\n",
        "=\n",
        "58\n",
        "47+11=58\n",
        "\n",
        "Then applies the function to the result and the next element:\n",
        "\n",
        "58\n",
        "+\n",
        "42\n",
        "=\n",
        "100\n",
        "58+42=100\n",
        "\n",
        "Then applies the function to the result and the next element:\n",
        "\n",
        "100\n",
        "+\n",
        "13\n",
        "=\n",
        "113\n",
        "100+13=113\n",
        "No more elements left, so the final result is\n",
        "113\n",
        "113.\n",
        "\n",
        "Summary in operation format:\n",
        "Pass 47, 11 to lambda → result 58\n",
        "\n",
        "Pass 58, 42 to lambda → result 100\n",
        "\n",
        "Pass 100, 13 to lambda → result 113\n",
        "\n",
        "Return 113"
      ],
      "metadata": {
        "id": "pJdh6lWJl1Kz"
      }
    },
    {
      "cell_type": "code",
      "source": [
        "# Write a Python function that takes a list of numbers as input and returns the sum of all even numbers in the list.\n",
        "\n",
        "def sum_even_numbers(numbers):\n",
        "    # Filter the even numbers using a list comprehension\n",
        "    even_numbers = [num for num in numbers if num % 2 == 0]\n",
        "    # Return the sum of the filtered even numbers\n",
        "    return sum(even_numbers)\n",
        "\n",
        "\n",
        "sum_even_numbers([47, 11, 42, 13, 20])"
      ],
      "metadata": {
        "colab": {
          "base_uri": "https://localhost:8080/"
        },
        "id": "91ZRXJoopQ4Y",
        "outputId": "53bc945d-5c7c-4577-f9a4-670bf82d457e"
      },
      "execution_count": 2,
      "outputs": [
        {
          "output_type": "execute_result",
          "data": {
            "text/plain": [
              "62"
            ]
          },
          "metadata": {},
          "execution_count": 2
        }
      ]
    },
    {
      "cell_type": "code",
      "source": [
        "# Create a Python function that accepts a string and returns the reverse of that string.\n",
        "\n",
        "def reverse_string(s):\n",
        "    # Using slicing to reverse the string\n",
        "    return s[::-1]\n",
        "\n",
        "reverse_string(\"vjhvhv\")"
      ],
      "metadata": {
        "colab": {
          "base_uri": "https://localhost:8080/",
          "height": 35
        },
        "id": "S81_-BA2qBLy",
        "outputId": "183606ca-02ec-4345-e88e-5586d8807f69"
      },
      "execution_count": 3,
      "outputs": [
        {
          "output_type": "execute_result",
          "data": {
            "text/plain": [
              "'vhvhjv'"
            ],
            "application/vnd.google.colaboratory.intrinsic+json": {
              "type": "string"
            }
          },
          "metadata": {},
          "execution_count": 3
        }
      ]
    },
    {
      "cell_type": "code",
      "source": [
        "#Implement a Python function that takes a list of integers and returns a new list containing the squares of each number.\n",
        "\n",
        "def square_numbers(numbers):\n",
        "    return [num ** 2 for num in numbers]\n",
        "\n",
        "square_numbers([1,2,3,4,5])"
      ],
      "metadata": {
        "colab": {
          "base_uri": "https://localhost:8080/"
        },
        "id": "uKQ8jbUJqQIg",
        "outputId": "2dc0eb60-e212-44cc-cd27-0524f2e04a2b"
      },
      "execution_count": 4,
      "outputs": [
        {
          "output_type": "execute_result",
          "data": {
            "text/plain": [
              "[1, 4, 9, 16, 25]"
            ]
          },
          "metadata": {},
          "execution_count": 4
        }
      ]
    },
    {
      "cell_type": "code",
      "source": [
        "#Write a Python function that checks if a given number is prime or not from 1 to 200.\n",
        "\n",
        "\n",
        "def is_prime(num):\n",
        "    if num <= 1:\n",
        "        return False  # 1 and below are not prime\n",
        "    for i in range(2, 200 + 1):\n",
        "        if num % i == 0:\n",
        "            return False  # Divisible by a number other than 1 and itself\n",
        "    return True  # Prime number\n",
        "\n",
        "is_prime(10)\n",
        "\n"
      ],
      "metadata": {
        "colab": {
          "base_uri": "https://localhost:8080/"
        },
        "id": "5XIceevxqxQU",
        "outputId": "856ac006-6f33-4031-c76a-91371d28b347"
      },
      "execution_count": 6,
      "outputs": [
        {
          "output_type": "execute_result",
          "data": {
            "text/plain": [
              "False"
            ]
          },
          "metadata": {},
          "execution_count": 6
        }
      ]
    },
    {
      "cell_type": "code",
      "source": [
        "# Create an iterator class in Python that generates the Fibonacci sequence up to a specified number of terms.\n",
        "\n",
        "def fibo(n):\n",
        "    a,b = 0,1\n",
        "    for i in range(n):\n",
        "        yield a\n",
        "        a,b = b, a+b\n",
        "\n",
        "\n",
        "for num in fibo(10):\n",
        "    print(num,end=\" \")\n",
        "\n"
      ],
      "metadata": {
        "colab": {
          "base_uri": "https://localhost:8080/"
        },
        "id": "R30NZNp2sSl2",
        "outputId": "db4aefc5-3f01-4c99-bc6a-91181afd65c0"
      },
      "execution_count": 7,
      "outputs": [
        {
          "output_type": "stream",
          "name": "stdout",
          "text": [
            "0 1 1 2 3 5 8 13 21 34 "
          ]
        }
      ]
    },
    {
      "cell_type": "code",
      "source": [
        "#Write a generator function in Python that yields the powers of 2 up to a given exponent.\n",
        "def powers_of_2_generator(exponent):\n",
        "    result = 1\n",
        "    for i in range(exponent + 1):\n",
        "        yield result\n",
        "        result *= 2\n",
        "\n",
        "# Example usage:\n",
        "for power in powers_of_2_generator(5):\n",
        "    print(power,end=\" \")\n"
      ],
      "metadata": {
        "colab": {
          "base_uri": "https://localhost:8080/"
        },
        "id": "laMfekgXtEyF",
        "outputId": "ed5b1144-d0a4-4b72-f931-7f1a173e6b6c"
      },
      "execution_count": 11,
      "outputs": [
        {
          "output_type": "stream",
          "name": "stdout",
          "text": [
            "1 2 4 8 16 32 "
          ]
        }
      ]
    },
    {
      "cell_type": "code",
      "source": [
        "# Implement a generator function that reads a file line by line and yields each line as a string?\n",
        "def read_file_line_by_line(file_path):\n",
        "    with open(file_path, 'r') as file:\n",
        "        for line in file:\n",
        "            yield line.rstrip('\\n')\n",
        "\n"
      ],
      "metadata": {
        "id": "rh776UfDt4q2"
      },
      "execution_count": 13,
      "outputs": []
    },
    {
      "cell_type": "code",
      "source": [
        "# Use a lambda function in Python to sort a list of tuples based on the second element of each tuple.\n",
        "# Sample list of tuples\n",
        "tuple_list = [(1, 3), (4, 1), (2, 2)]\n",
        "\n",
        "# Sort the list based on the second element of each tuple\n",
        "sorted_list = sorted(tuple_list, key=lambda x: x[1])\n",
        "\n",
        "print(sorted_list)\n"
      ],
      "metadata": {
        "colab": {
          "base_uri": "https://localhost:8080/"
        },
        "id": "JVrgcrcUuJJB",
        "outputId": "0f28307b-0861-455f-afb6-93021b515aab"
      },
      "execution_count": 14,
      "outputs": [
        {
          "output_type": "stream",
          "name": "stdout",
          "text": [
            "[(4, 1), (2, 2), (1, 3)]\n"
          ]
        }
      ]
    },
    {
      "cell_type": "code",
      "source": [
        "#Write a Python program that uses `map()` to convert a list of temperatures from Celsius to Fahrenheit?\n",
        "# List of temperatures in Celsius\n",
        "temperatures_celsius = [0, 20, 37, 100]\n",
        "\n",
        "# Convert each temperature to Fahrenheit using map and lambda\n",
        "temperatures_fahrenheit = list(map(lambda c: (c * 9/5) + 32, temperatures_celsius))\n",
        "\n",
        "print(temperatures_fahrenheit)\n",
        "\n"
      ],
      "metadata": {
        "colab": {
          "base_uri": "https://localhost:8080/"
        },
        "id": "e2IULStTujYI",
        "outputId": "ab71e108-113f-4c34-f4f2-d65f2c10a381"
      },
      "execution_count": 15,
      "outputs": [
        {
          "output_type": "stream",
          "name": "stdout",
          "text": [
            "[32.0, 68.0, 98.6, 212.0]\n"
          ]
        }
      ]
    },
    {
      "cell_type": "code",
      "source": [
        "#Create a Python program that uses `filter()` to remove all the vowels from a given string\n",
        "def remove_vowels(string):\n",
        "    vowels = \"aeiouAEIOU\"\n",
        "    # Filter out characters that are vowels\n",
        "    result = ''.join(filter(lambda char: char not in vowels, string))\n",
        "    return result\n",
        "\n",
        "input_str = \"Hello, OpenAI!\"\n",
        "print(remove_vowels(input_str))\n"
      ],
      "metadata": {
        "colab": {
          "base_uri": "https://localhost:8080/"
        },
        "id": "RD952y_jutbu",
        "outputId": "dd988463-a5dd-4dc1-c909-2ad0c8ffef6e"
      },
      "execution_count": 16,
      "outputs": [
        {
          "output_type": "stream",
          "name": "stdout",
          "text": [
            "Hll, pn!\n"
          ]
        }
      ]
    },
    {
      "cell_type": "code",
      "source": [],
      "metadata": {
        "id": "fYU3NCmZu9F1"
      },
      "execution_count": null,
      "outputs": []
    },
    {
      "cell_type": "code",
      "source": [],
      "metadata": {
        "id": "2uJ4p7XtsJ4a"
      },
      "execution_count": null,
      "outputs": []
    }
  ]
}